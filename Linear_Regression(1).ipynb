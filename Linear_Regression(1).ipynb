{
  "nbformat": 4,
  "nbformat_minor": 0,
  "metadata": {
    "colab": {
      "name": "Linear Regression.ipynb",
      "provenance": [],
      "collapsed_sections": []
    },
    "kernelspec": {
      "name": "python3",
      "display_name": "Python 3"
    }
  },
  "cells": [
    {
      "cell_type": "code",
      "metadata": {
        "id": "CSPFxuVxGhmP",
        "colab_type": "code",
        "colab": {}
      },
      "source": [
        "from sklearn.datasets import load_boston"
      ],
      "execution_count": 0,
      "outputs": []
    },
    {
      "cell_type": "code",
      "metadata": {
        "id": "YpHwSmF9Z0D_",
        "colab_type": "code",
        "colab": {}
      },
      "source": [
        "boston=load_boston()"
      ],
      "execution_count": 0,
      "outputs": []
    },
    {
      "cell_type": "code",
      "metadata": {
        "id": "ciwySQfhZ4Br",
        "colab_type": "code",
        "colab": {
          "base_uri": "https://localhost:8080/",
          "height": 923
        },
        "outputId": "6cb7b4df-6582-4a41-fdf9-c773d3d42e05"
      },
      "source": [
        "print(boston.DESCR)"
      ],
      "execution_count": 4,
      "outputs": [
        {
          "output_type": "stream",
          "text": [
            ".. _boston_dataset:\n",
            "\n",
            "Boston house prices dataset\n",
            "---------------------------\n",
            "\n",
            "**Data Set Characteristics:**  \n",
            "\n",
            "    :Number of Instances: 506 \n",
            "\n",
            "    :Number of Attributes: 13 numeric/categorical predictive. Median Value (attribute 14) is usually the target.\n",
            "\n",
            "    :Attribute Information (in order):\n",
            "        - CRIM     per capita crime rate by town\n",
            "        - ZN       proportion of residential land zoned for lots over 25,000 sq.ft.\n",
            "        - INDUS    proportion of non-retail business acres per town\n",
            "        - CHAS     Charles River dummy variable (= 1 if tract bounds river; 0 otherwise)\n",
            "        - NOX      nitric oxides concentration (parts per 10 million)\n",
            "        - RM       average number of rooms per dwelling\n",
            "        - AGE      proportion of owner-occupied units built prior to 1940\n",
            "        - DIS      weighted distances to five Boston employment centres\n",
            "        - RAD      index of accessibility to radial highways\n",
            "        - TAX      full-value property-tax rate per $10,000\n",
            "        - PTRATIO  pupil-teacher ratio by town\n",
            "        - B        1000(Bk - 0.63)^2 where Bk is the proportion of blacks by town\n",
            "        - LSTAT    % lower status of the population\n",
            "        - MEDV     Median value of owner-occupied homes in $1000's\n",
            "\n",
            "    :Missing Attribute Values: None\n",
            "\n",
            "    :Creator: Harrison, D. and Rubinfeld, D.L.\n",
            "\n",
            "This is a copy of UCI ML housing dataset.\n",
            "https://archive.ics.uci.edu/ml/machine-learning-databases/housing/\n",
            "\n",
            "\n",
            "This dataset was taken from the StatLib library which is maintained at Carnegie Mellon University.\n",
            "\n",
            "The Boston house-price data of Harrison, D. and Rubinfeld, D.L. 'Hedonic\n",
            "prices and the demand for clean air', J. Environ. Economics & Management,\n",
            "vol.5, 81-102, 1978.   Used in Belsley, Kuh & Welsch, 'Regression diagnostics\n",
            "...', Wiley, 1980.   N.B. Various transformations are used in the table on\n",
            "pages 244-261 of the latter.\n",
            "\n",
            "The Boston house-price data has been used in many machine learning papers that address regression\n",
            "problems.   \n",
            "     \n",
            ".. topic:: References\n",
            "\n",
            "   - Belsley, Kuh & Welsch, 'Regression diagnostics: Identifying Influential Data and Sources of Collinearity', Wiley, 1980. 244-261.\n",
            "   - Quinlan,R. (1993). Combining Instance-Based and Model-Based Learning. In Proceedings on the Tenth International Conference of Machine Learning, 236-243, University of Massachusetts, Amherst. Morgan Kaufmann.\n",
            "\n"
          ],
          "name": "stdout"
        }
      ]
    },
    {
      "cell_type": "code",
      "metadata": {
        "id": "6wdAY5bGZ7mv",
        "colab_type": "code",
        "colab": {}
      },
      "source": [
        "X=boston.data"
      ],
      "execution_count": 0,
      "outputs": []
    },
    {
      "cell_type": "code",
      "metadata": {
        "id": "fkMfrMg_fVbB",
        "colab_type": "code",
        "colab": {}
      },
      "source": [
        "Y=boston.target"
      ],
      "execution_count": 0,
      "outputs": []
    },
    {
      "cell_type": "code",
      "metadata": {
        "id": "CiYIdkQ8fYb6",
        "colab_type": "code",
        "colab": {
          "base_uri": "https://localhost:8080/",
          "height": 781
        },
        "outputId": "cc43ac80-0bd6-40bb-d345-f642dc6ea65f"
      },
      "source": [
        "print(X)\n",
        "print(Y)"
      ],
      "execution_count": 7,
      "outputs": [
        {
          "output_type": "stream",
          "text": [
            "[[6.3200e-03 1.8000e+01 2.3100e+00 ... 1.5300e+01 3.9690e+02 4.9800e+00]\n",
            " [2.7310e-02 0.0000e+00 7.0700e+00 ... 1.7800e+01 3.9690e+02 9.1400e+00]\n",
            " [2.7290e-02 0.0000e+00 7.0700e+00 ... 1.7800e+01 3.9283e+02 4.0300e+00]\n",
            " ...\n",
            " [6.0760e-02 0.0000e+00 1.1930e+01 ... 2.1000e+01 3.9690e+02 5.6400e+00]\n",
            " [1.0959e-01 0.0000e+00 1.1930e+01 ... 2.1000e+01 3.9345e+02 6.4800e+00]\n",
            " [4.7410e-02 0.0000e+00 1.1930e+01 ... 2.1000e+01 3.9690e+02 7.8800e+00]]\n",
            "[24.  21.6 34.7 33.4 36.2 28.7 22.9 27.1 16.5 18.9 15.  18.9 21.7 20.4\n",
            " 18.2 19.9 23.1 17.5 20.2 18.2 13.6 19.6 15.2 14.5 15.6 13.9 16.6 14.8\n",
            " 18.4 21.  12.7 14.5 13.2 13.1 13.5 18.9 20.  21.  24.7 30.8 34.9 26.6\n",
            " 25.3 24.7 21.2 19.3 20.  16.6 14.4 19.4 19.7 20.5 25.  23.4 18.9 35.4\n",
            " 24.7 31.6 23.3 19.6 18.7 16.  22.2 25.  33.  23.5 19.4 22.  17.4 20.9\n",
            " 24.2 21.7 22.8 23.4 24.1 21.4 20.  20.8 21.2 20.3 28.  23.9 24.8 22.9\n",
            " 23.9 26.6 22.5 22.2 23.6 28.7 22.6 22.  22.9 25.  20.6 28.4 21.4 38.7\n",
            " 43.8 33.2 27.5 26.5 18.6 19.3 20.1 19.5 19.5 20.4 19.8 19.4 21.7 22.8\n",
            " 18.8 18.7 18.5 18.3 21.2 19.2 20.4 19.3 22.  20.3 20.5 17.3 18.8 21.4\n",
            " 15.7 16.2 18.  14.3 19.2 19.6 23.  18.4 15.6 18.1 17.4 17.1 13.3 17.8\n",
            " 14.  14.4 13.4 15.6 11.8 13.8 15.6 14.6 17.8 15.4 21.5 19.6 15.3 19.4\n",
            " 17.  15.6 13.1 41.3 24.3 23.3 27.  50.  50.  50.  22.7 25.  50.  23.8\n",
            " 23.8 22.3 17.4 19.1 23.1 23.6 22.6 29.4 23.2 24.6 29.9 37.2 39.8 36.2\n",
            " 37.9 32.5 26.4 29.6 50.  32.  29.8 34.9 37.  30.5 36.4 31.1 29.1 50.\n",
            " 33.3 30.3 34.6 34.9 32.9 24.1 42.3 48.5 50.  22.6 24.4 22.5 24.4 20.\n",
            " 21.7 19.3 22.4 28.1 23.7 25.  23.3 28.7 21.5 23.  26.7 21.7 27.5 30.1\n",
            " 44.8 50.  37.6 31.6 46.7 31.5 24.3 31.7 41.7 48.3 29.  24.  25.1 31.5\n",
            " 23.7 23.3 22.  20.1 22.2 23.7 17.6 18.5 24.3 20.5 24.5 26.2 24.4 24.8\n",
            " 29.6 42.8 21.9 20.9 44.  50.  36.  30.1 33.8 43.1 48.8 31.  36.5 22.8\n",
            " 30.7 50.  43.5 20.7 21.1 25.2 24.4 35.2 32.4 32.  33.2 33.1 29.1 35.1\n",
            " 45.4 35.4 46.  50.  32.2 22.  20.1 23.2 22.3 24.8 28.5 37.3 27.9 23.9\n",
            " 21.7 28.6 27.1 20.3 22.5 29.  24.8 22.  26.4 33.1 36.1 28.4 33.4 28.2\n",
            " 22.8 20.3 16.1 22.1 19.4 21.6 23.8 16.2 17.8 19.8 23.1 21.  23.8 23.1\n",
            " 20.4 18.5 25.  24.6 23.  22.2 19.3 22.6 19.8 17.1 19.4 22.2 20.7 21.1\n",
            " 19.5 18.5 20.6 19.  18.7 32.7 16.5 23.9 31.2 17.5 17.2 23.1 24.5 26.6\n",
            " 22.9 24.1 18.6 30.1 18.2 20.6 17.8 21.7 22.7 22.6 25.  19.9 20.8 16.8\n",
            " 21.9 27.5 21.9 23.1 50.  50.  50.  50.  50.  13.8 13.8 15.  13.9 13.3\n",
            " 13.1 10.2 10.4 10.9 11.3 12.3  8.8  7.2 10.5  7.4 10.2 11.5 15.1 23.2\n",
            "  9.7 13.8 12.7 13.1 12.5  8.5  5.   6.3  5.6  7.2 12.1  8.3  8.5  5.\n",
            " 11.9 27.9 17.2 27.5 15.  17.2 17.9 16.3  7.   7.2  7.5 10.4  8.8  8.4\n",
            " 16.7 14.2 20.8 13.4 11.7  8.3 10.2 10.9 11.   9.5 14.5 14.1 16.1 14.3\n",
            " 11.7 13.4  9.6  8.7  8.4 12.8 10.5 17.1 18.4 15.4 10.8 11.8 14.9 12.6\n",
            " 14.1 13.  13.4 15.2 16.1 17.8 14.9 14.1 12.7 13.5 14.9 20.  16.4 17.7\n",
            " 19.5 20.2 21.4 19.9 19.  19.1 19.1 20.1 19.9 19.6 23.2 29.8 13.8 13.3\n",
            " 16.7 12.  14.6 21.4 23.  23.7 25.  21.8 20.6 21.2 19.1 20.6 15.2  7.\n",
            "  8.1 13.6 20.1 21.8 24.5 23.1 19.7 18.3 21.2 17.5 16.8 22.4 20.6 23.9\n",
            " 22.  11.9]\n"
          ],
          "name": "stdout"
        }
      ]
    },
    {
      "cell_type": "code",
      "metadata": {
        "id": "aGJtS-w5fapA",
        "colab_type": "code",
        "colab": {
          "base_uri": "https://localhost:8080/",
          "height": 193
        },
        "outputId": "5836c20f-2d02-4275-b346-8eb2dd1a11a6"
      },
      "source": [
        "pip install pyforest"
      ],
      "execution_count": 9,
      "outputs": [
        {
          "output_type": "stream",
          "text": [
            "Collecting pyforest\n",
            "  Downloading https://files.pythonhosted.org/packages/ac/c3/ae8976c2c281c69aef2a615e8e3e6ce8c0b401c55dd68c50911d0d532b3b/pyforest-1.0.2.tar.gz\n",
            "Building wheels for collected packages: pyforest\n",
            "  Building wheel for pyforest (setup.py) ... \u001b[?25l\u001b[?25hdone\n",
            "  Created wheel for pyforest: filename=pyforest-1.0.2-py2.py3-none-any.whl size=13556 sha256=87f508615982f1d86b74cee9a8e8017b1d0dab7ab2e5985527a3d7f913ef7d1f\n",
            "  Stored in directory: /root/.cache/pip/wheels/e2/1b/b1/f7ff0a6aee79ec158aea4a339d7bd722deb261f65d8c9968c2\n",
            "Successfully built pyforest\n",
            "Installing collected packages: pyforest\n",
            "Successfully installed pyforest-1.0.2\n"
          ],
          "name": "stdout"
        }
      ]
    },
    {
      "cell_type": "code",
      "metadata": {
        "id": "id5DsVsvfqb6",
        "colab_type": "code",
        "colab": {}
      },
      "source": [
        "import pyforest"
      ],
      "execution_count": 0,
      "outputs": []
    },
    {
      "cell_type": "code",
      "metadata": {
        "id": "mUNENhxlfyJy",
        "colab_type": "code",
        "colab": {
          "base_uri": "https://localhost:8080/",
          "height": 677
        },
        "outputId": "f3594f2f-0653-494b-d3a3-13b5fc6142b8"
      },
      "source": [
        "lazy_imports()"
      ],
      "execution_count": 11,
      "outputs": [
        {
          "output_type": "execute_result",
          "data": {
            "text/plain": [
              "['import keras',\n",
              " 'from dask import dataframe as dd',\n",
              " 'import numpy as np',\n",
              " 'import dash',\n",
              " 'from sklearn.ensemble import RandomForestRegressor',\n",
              " 'import bokeh',\n",
              " 'import nltk',\n",
              " 'import sys',\n",
              " 'import pydot',\n",
              " 'from sklearn.ensemble import RandomForestClassifier',\n",
              " 'import pickle',\n",
              " 'import sklearn',\n",
              " 'import statistics',\n",
              " 'from sklearn.feature_extraction.text import TfidfVectorizer',\n",
              " 'from sklearn.ensemble import GradientBoostingRegressor',\n",
              " 'import plotly.express as px',\n",
              " 'from sklearn.preprocessing import OneHotEncoder',\n",
              " 'import gensim',\n",
              " 'import tqdm',\n",
              " 'import os',\n",
              " 'import datetime as dt',\n",
              " 'import altair as alt',\n",
              " 'from pyspark import SparkContext',\n",
              " 'from sklearn import svm',\n",
              " 'import tensorflow as tf',\n",
              " 'import spacy',\n",
              " 'import re',\n",
              " 'from sklearn.manifold import TSNE',\n",
              " 'import matplotlib.pyplot as plt',\n",
              " 'import pandas as pd',\n",
              " 'import glob',\n",
              " 'from sklearn.model_selection import train_test_split',\n",
              " 'from sklearn.ensemble import GradientBoostingClassifier',\n",
              " 'import plotly.graph_objs as go',\n",
              " 'import seaborn as sns',\n",
              " 'import matplotlib as mpl',\n",
              " 'import plotly as py',\n",
              " 'from pathlib import Path']"
            ]
          },
          "metadata": {
            "tags": []
          },
          "execution_count": 11
        }
      ]
    },
    {
      "cell_type": "code",
      "metadata": {
        "id": "i5rtAIDvfz1P",
        "colab_type": "code",
        "colab": {}
      },
      "source": [
        "from sklearn.linear_model import LogisticRegression\n",
        "from sklearn.linear_model import LinearRegression\n",
        "from sklearn.linear_model import Lasso\n",
        "from sklearn.linear_model import RidgeClassifier"
      ],
      "execution_count": 0,
      "outputs": []
    },
    {
      "cell_type": "code",
      "metadata": {
        "id": "vveepnwago3_",
        "colab_type": "code",
        "colab": {
          "base_uri": "https://localhost:8080/",
          "height": 17
        },
        "outputId": "89adf351-0776-4e2f-9bb9-9de740f38719"
      },
      "source": [
        "x_train,x_test,y_train,y_test=train_test_split(X,Y,test_size=0.2)"
      ],
      "execution_count": 15,
      "outputs": [
        {
          "output_type": "display_data",
          "data": {
            "application/javascript": [
              "\n",
              "        if (window._pyforest_update_imports_cell) { window._pyforest_update_imports_cell('import pandas as pd\\nfrom sklearn.model_selection import train_test_split\\nimport spacy\\nimport tensorflow as tf\\nimport plotly.express as px\\nimport tqdm\\nimport re\\nimport sys\\nimport pydot\\nimport plotly as py\\nimport matplotlib.pyplot as plt\\nimport pickle\\nimport sklearn\\nimport statistics\\nfrom openpyxl import load_workbook'); }\n",
              "    "
            ],
            "text/plain": [
              "<IPython.core.display.Javascript object>"
            ]
          },
          "metadata": {
            "tags": []
          }
        }
      ]
    },
    {
      "cell_type": "code",
      "metadata": {
        "id": "xeJRAhymhwiR",
        "colab_type": "code",
        "colab": {
          "base_uri": "https://localhost:8080/",
          "height": 86
        },
        "outputId": "abcd2c6a-ccf3-48f1-a134-72ed3dc701bc"
      },
      "source": [
        "print(x_train.shape)\n",
        "print(y_train.shape)\n",
        "print(x_test.shape)\n",
        "print(y_test.shape)"
      ],
      "execution_count": 16,
      "outputs": [
        {
          "output_type": "stream",
          "text": [
            "(404, 13)\n",
            "(404,)\n",
            "(102, 13)\n",
            "(102,)\n"
          ],
          "name": "stdout"
        }
      ]
    },
    {
      "cell_type": "code",
      "metadata": {
        "id": "8VLwsC08h6dg",
        "colab_type": "code",
        "colab": {}
      },
      "source": [
        "from sklearn.preprocessing import MinMaxScaler "
      ],
      "execution_count": 0,
      "outputs": []
    },
    {
      "cell_type": "code",
      "metadata": {
        "id": "0vHm-JNTit--",
        "colab_type": "code",
        "colab": {
          "base_uri": "https://localhost:8080/",
          "height": 34
        },
        "outputId": "d0549ae2-80ee-4a3f-b563-c91d10851133"
      },
      "source": [
        "normalize=MinMaxScaler()\n",
        "normalize.fit(x_train)"
      ],
      "execution_count": 19,
      "outputs": [
        {
          "output_type": "execute_result",
          "data": {
            "text/plain": [
              "MinMaxScaler(copy=True, feature_range=(0, 1))"
            ]
          },
          "metadata": {
            "tags": []
          },
          "execution_count": 19
        }
      ]
    },
    {
      "cell_type": "code",
      "metadata": {
        "id": "HQhKCMm_i-_R",
        "colab_type": "code",
        "colab": {}
      },
      "source": [
        "x_train=normalize.transform(x_train)\n",
        "x_test=normalize.transform(x_test)"
      ],
      "execution_count": 0,
      "outputs": []
    },
    {
      "cell_type": "code",
      "metadata": {
        "id": "rjey0afDjOaH",
        "colab_type": "code",
        "colab": {
          "base_uri": "https://localhost:8080/",
          "height": 52
        },
        "outputId": "3772323d-17b8-42dd-fe66-7398d55a0415"
      },
      "source": [
        "print(x_train.shape)\n",
        "print(x_test.shape)"
      ],
      "execution_count": 21,
      "outputs": [
        {
          "output_type": "stream",
          "text": [
            "(404, 13)\n",
            "(102, 13)\n"
          ],
          "name": "stdout"
        }
      ]
    },
    {
      "cell_type": "code",
      "metadata": {
        "id": "kj7DWLvMjVH3",
        "colab_type": "code",
        "colab": {
          "base_uri": "https://localhost:8080/",
          "height": 34
        },
        "outputId": "b61a4aa1-eb71-4bf3-ae01-71be1dcb441c"
      },
      "source": [
        "x_train[:,0].mean()"
      ],
      "execution_count": 26,
      "outputs": [
        {
          "output_type": "execute_result",
          "data": {
            "text/plain": [
              "0.04160157575766424"
            ]
          },
          "metadata": {
            "tags": []
          },
          "execution_count": 26
        }
      ]
    },
    {
      "cell_type": "code",
      "metadata": {
        "id": "rh1hxNK1jZVX",
        "colab_type": "code",
        "colab": {
          "base_uri": "https://localhost:8080/",
          "height": 243
        },
        "outputId": "ad66239a-36d5-4d4b-e99a-98ee0c877528"
      },
      "source": [
        "x_train"
      ],
      "execution_count": 27,
      "outputs": [
        {
          "output_type": "execute_result",
          "data": {
            "text/plain": [
              "array([[1.11745683e-03, 0.00000000e+00, 1.00000000e+00, ...,\n",
              "        7.97872340e-01, 9.82878612e-01, 4.60638905e-01],\n",
              "       [8.71643302e-04, 0.00000000e+00, 4.53445748e-01, ...,\n",
              "        6.48936170e-01, 9.97881890e-01, 2.04791786e-01],\n",
              "       [5.71412483e-02, 0.00000000e+00, 6.46627566e-01, ...,\n",
              "        8.08510638e-01, 9.70220384e-01, 4.37820878e-01],\n",
              "       ...,\n",
              "       [1.62015280e-01, 0.00000000e+00, 6.46627566e-01, ...,\n",
              "        8.08510638e-01, 6.85107671e-02, 4.60068454e-01],\n",
              "       [2.04608571e-03, 0.00000000e+00, 2.36436950e-01, ...,\n",
              "        5.63829787e-01, 1.00000000e+00, 3.48830576e-01],\n",
              "       [1.05477382e-01, 0.00000000e+00, 6.46627566e-01, ...,\n",
              "        8.08510638e-01, 1.00000000e+00, 5.97832288e-01]])"
            ]
          },
          "metadata": {
            "tags": []
          },
          "execution_count": 27
        }
      ]
    },
    {
      "cell_type": "code",
      "metadata": {
        "id": "HQSlzJmwjcdh",
        "colab_type": "code",
        "colab": {
          "base_uri": "https://localhost:8080/",
          "height": 34
        },
        "outputId": "ec72d708-ec9e-492e-edc4-9fab3b98c09e"
      },
      "source": [
        "x_train[:,0].std()"
      ],
      "execution_count": 28,
      "outputs": [
        {
          "output_type": "execute_result",
          "data": {
            "text/plain": [
              "0.09676481680481487"
            ]
          },
          "metadata": {
            "tags": []
          },
          "execution_count": 28
        }
      ]
    },
    {
      "cell_type": "code",
      "metadata": {
        "id": "gawWjlasjibH",
        "colab_type": "code",
        "colab": {
          "base_uri": "https://localhost:8080/",
          "height": 52
        },
        "outputId": "6bcef0c4-f109-41c9-8783-86dce0e8d8da"
      },
      "source": [
        "print(x_test[:,1].mean())\n",
        "print(x_test[:,1].std())"
      ],
      "execution_count": 29,
      "outputs": [
        {
          "output_type": "stream",
          "text": [
            "0.12397058823529412\n",
            "0.23485637896976794\n"
          ],
          "name": "stdout"
        }
      ]
    },
    {
      "cell_type": "code",
      "metadata": {
        "id": "Rvzoh0IOj6JD",
        "colab_type": "code",
        "colab": {
          "base_uri": "https://localhost:8080/",
          "height": 34
        },
        "outputId": "b1029e57-37c9-42c0-87cc-ac89776d075f"
      },
      "source": [
        "model=LinearRegression()\n",
        "model.fit(x_train,y_train)"
      ],
      "execution_count": 30,
      "outputs": [
        {
          "output_type": "execute_result",
          "data": {
            "text/plain": [
              "LinearRegression(copy_X=True, fit_intercept=True, n_jobs=None, normalize=False)"
            ]
          },
          "metadata": {
            "tags": []
          },
          "execution_count": 30
        }
      ]
    },
    {
      "cell_type": "code",
      "metadata": {
        "id": "5Bx3XMzQkdZR",
        "colab_type": "code",
        "colab": {}
      },
      "source": [
        "y_pred=model.predict(x_test)"
      ],
      "execution_count": 0,
      "outputs": []
    },
    {
      "cell_type": "code",
      "metadata": {
        "id": "yDr_O0MmmHBR",
        "colab_type": "code",
        "colab": {}
      },
      "source": [
        "from sklearn.metrics import classification_report,roc_auc_score,roc_curve,accuracy_score"
      ],
      "execution_count": 0,
      "outputs": []
    },
    {
      "cell_type": "code",
      "metadata": {
        "id": "DRf2GDOymEAX",
        "colab_type": "code",
        "colab": {}
      },
      "source": [
        "#remember it doesnt support continuus metrics"
      ],
      "execution_count": 0,
      "outputs": []
    },
    {
      "cell_type": "code",
      "metadata": {
        "id": "cTZW6CZtmtZa",
        "colab_type": "code",
        "colab": {
          "base_uri": "https://localhost:8080/",
          "height": 295
        },
        "outputId": "0dd44bb6-aac4-4327-f79f-ffb90155207a"
      },
      "source": [
        "sns.scatterplot(y_test,y_pred)\n",
        "plt.xlabel(\"Actual Prices\")\n",
        "plt.ylabel(\"predicted Prices\")\n",
        "plt.title(\"The prices of House in Boston\")\n",
        "plt.show()"
      ],
      "execution_count": 39,
      "outputs": [
        {
          "output_type": "display_data",
          "data": {
            "application/javascript": [
              "\n",
              "        if (window._pyforest_update_imports_cell) { window._pyforest_update_imports_cell('import numpy as np\\nimport bokeh\\nimport nltk\\nimport sys\\nimport pydot\\nimport pickle\\nimport sklearn\\nimport statistics\\nimport plotly.express as px\\nimport tqdm\\nimport altair as alt\\nfrom sklearn import svm\\nimport tensorflow as tf\\nimport spacy\\nimport re\\nimport matplotlib.pyplot as plt\\nimport pandas as pd\\nfrom sklearn.model_selection import train_test_split\\nimport seaborn as sns\\nimport matplotlib as mpl\\nimport plotly as py\\nfrom openpyxl import load_workbook'); }\n",
              "    "
            ],
            "text/plain": [
              "<IPython.core.display.Javascript object>"
            ]
          },
          "metadata": {
            "tags": []
          }
        },
        {
          "output_type": "display_data",
          "data": {
            "application/javascript": [
              "\n",
              "        if (window._pyforest_update_imports_cell) { window._pyforest_update_imports_cell('import numpy as np\\nimport bokeh\\nimport nltk\\nimport sys\\nimport pydot\\nimport pickle\\nimport sklearn\\nimport statistics\\nimport plotly.express as px\\nimport tqdm\\nimport altair as alt\\nfrom sklearn import svm\\nimport tensorflow as tf\\nimport spacy\\nimport re\\nimport matplotlib.pyplot as plt\\nimport pandas as pd\\nfrom sklearn.model_selection import train_test_split\\nimport seaborn as sns\\nimport matplotlib as mpl\\nimport plotly as py\\nfrom openpyxl import load_workbook'); }\n",
              "    "
            ],
            "text/plain": [
              "<IPython.core.display.Javascript object>"
            ]
          },
          "metadata": {
            "tags": []
          }
        },
        {
          "output_type": "display_data",
          "data": {
            "application/javascript": [
              "\n",
              "        if (window._pyforest_update_imports_cell) { window._pyforest_update_imports_cell('import numpy as np\\nimport bokeh\\nimport nltk\\nimport sys\\nimport pydot\\nimport pickle\\nimport sklearn\\nimport statistics\\nimport plotly.express as px\\nimport tqdm\\nimport altair as alt\\nfrom sklearn import svm\\nimport tensorflow as tf\\nimport spacy\\nimport re\\nimport matplotlib.pyplot as plt\\nimport pandas as pd\\nfrom sklearn.model_selection import train_test_split\\nimport seaborn as sns\\nimport matplotlib as mpl\\nimport plotly as py\\nfrom openpyxl import load_workbook'); }\n",
              "    "
            ],
            "text/plain": [
              "<IPython.core.display.Javascript object>"
            ]
          },
          "metadata": {
            "tags": []
          }
        },
        {
          "output_type": "display_data",
          "data": {
            "application/javascript": [
              "\n",
              "        if (window._pyforest_update_imports_cell) { window._pyforest_update_imports_cell('import numpy as np\\nimport bokeh\\nimport nltk\\nimport sys\\nimport pydot\\nimport pickle\\nimport sklearn\\nimport statistics\\nimport plotly.express as px\\nimport tqdm\\nimport altair as alt\\nfrom sklearn import svm\\nimport tensorflow as tf\\nimport spacy\\nimport re\\nimport matplotlib.pyplot as plt\\nimport pandas as pd\\nfrom sklearn.model_selection import train_test_split\\nimport seaborn as sns\\nimport matplotlib as mpl\\nimport plotly as py\\nfrom openpyxl import load_workbook'); }\n",
              "    "
            ],
            "text/plain": [
              "<IPython.core.display.Javascript object>"
            ]
          },
          "metadata": {
            "tags": []
          }
        },
        {
          "output_type": "display_data",
          "data": {
            "application/javascript": [
              "\n",
              "        if (window._pyforest_update_imports_cell) { window._pyforest_update_imports_cell('import numpy as np\\nimport bokeh\\nimport nltk\\nimport sys\\nimport pydot\\nimport pickle\\nimport sklearn\\nimport statistics\\nimport plotly.express as px\\nimport tqdm\\nimport altair as alt\\nfrom sklearn import svm\\nimport tensorflow as tf\\nimport spacy\\nimport re\\nimport matplotlib.pyplot as plt\\nimport pandas as pd\\nfrom sklearn.model_selection import train_test_split\\nimport seaborn as sns\\nimport matplotlib as mpl\\nimport plotly as py\\nfrom openpyxl import load_workbook'); }\n",
              "    "
            ],
            "text/plain": [
              "<IPython.core.display.Javascript object>"
            ]
          },
          "metadata": {
            "tags": []
          }
        },
        {
          "output_type": "display_data",
          "data": {
            "image/png": "[encoded data removed]",
            "text/plain": [
              "<Figure size 432x288 with 1 Axes>"
            ]
          },
          "metadata": {
            "tags": []
          }
        }
      ]
    },
    {
      "cell_type": "code",
      "metadata": {
        "id": "4oPmiUkKniWb",
        "colab_type": "code",
        "colab": {}
      },
      "source": [
        "y_deltas=y_test-y_pred"
      ],
      "execution_count": 0,
      "outputs": []
    },
    {
      "cell_type": "code",
      "metadata": {
        "id": "XqZvQTuqnz19",
        "colab_type": "code",
        "colab": {
          "base_uri": "https://localhost:8080/",
          "height": 816
        },
        "outputId": "056a562b-a134-420d-92bf-a62ebf08c606"
      },
      "source": [
        "print(y_deltas)\n",
        "print(y_pred)\n",
        "print(y_test)"
      ],
      "execution_count": 42,
      "outputs": [
        {
          "output_type": "stream",
          "text": [
            "[  0.77234282  13.95607924   3.56654337  -7.10098957  10.38596499\n",
            "   1.91348191  -1.39225489  -0.92561718   6.38054017  -1.98971616\n",
            "  -3.31230598  -1.08652384  -1.87565775  -3.31601766   0.83393425\n",
            "  -0.69166248   6.92269358   3.39684632   1.6302676    0.21193674\n",
            "  -3.38313954   0.79849894  -4.94224598   2.16058882   1.95001408\n",
            "  -1.32899694  -0.37344527  -2.38127231  -1.07130409  -3.39680572\n",
            "  -0.50798926  -1.99286693   0.37436426   3.36370712  -3.3078708\n",
            "  -0.17755024   0.34623302  -3.85626443  -2.62628812   0.17362655\n",
            " -10.18451255   1.30581296   7.67981578  -2.60846678  -0.21785671\n",
            "  -1.00010024   2.92674587   5.17349306 -17.4505687   -4.71025652\n",
            "  -5.70850506  26.88919959  -3.31404843  -0.98941616   0.42274363\n",
            "  -2.84602846   2.32809999  -4.20833533  -3.85255006  -5.32207128\n",
            "  -2.67276825  -0.4291596   -0.20582773  -4.02896217  -0.57617638\n",
            "  -6.4024301   -5.14800845  -3.58425668  -5.82157401  -4.23088371\n",
            "  17.32781914   0.47049731  -6.51958965  -2.2393985    4.53358187\n",
            "  -1.37534884  -3.10452927  -0.606545     0.26416754  -0.77370745\n",
            "  -0.46858417   4.17694353  -0.31992772   3.12603417  13.93113948\n",
            "  29.86828955  -4.6106791    5.84957932   1.57312553  -2.87660603\n",
            "   9.93013663   8.21634703   2.71102113   8.76452317   0.58107105\n",
            "  -0.33182491  -1.85150275  -4.04241162   1.20175361  -0.19154575\n",
            "  -4.74069058  -4.35554581]\n",
            "[12.72765718 -0.15607924  4.53345663 30.70098957 37.91403501 23.08651809\n",
            " 30.79225489 15.82561718 42.11945983 20.68971616 24.71230598 24.48652384\n",
            " 17.87565775 32.31601766 19.56606575 20.19166248 43.07730642 21.60315368\n",
            " 21.6697324  20.88806326 10.58313954 12.80150106 28.24224598  5.23941118\n",
            " 18.64998592 16.52899694 25.07344527 21.68127231 19.27130409 24.99680572\n",
            " 23.90798926 20.29286693 19.12563574 21.13629288 11.6078708  25.47755024\n",
            " 17.75376698 27.75626443 31.32628812 30.32637345 22.08451255 34.09418704\n",
            " 19.82018422 19.70846678 24.61785671 20.20010024  5.87325413 13.32650694\n",
            " 39.3505687  28.41025652 30.50850506 23.11080041 22.71404843 23.98941616\n",
            " 22.27725637 26.74602846 17.07190001 26.50833533 26.65255006 28.12207128\n",
            " 35.77276825 28.8291596  21.40582773 13.52896217 15.37617638 18.9024301\n",
            " 32.14800845 34.58425668 17.92157401 21.63088371 10.17218086 23.82950269\n",
            " 23.01958965 28.8393985  11.96641813 32.47534884 27.60452927 11.406545\n",
            " 28.33583246 23.47370745 25.26858417 30.72305647 15.91992772 33.27396583\n",
            " 36.06886052 20.13171045 27.2106791  38.95042068 18.32687447 36.17660603\n",
            " 17.96986337 41.78365297 17.18897887 24.23547683 23.81892895 34.93182491\n",
            " 19.55150275 19.24241162 19.09824639 36.19154575 20.84069058 36.75554581]\n",
            "[13.5 13.8  8.1 23.6 48.3 25.  29.4 14.9 48.5 18.7 21.4 23.4 16.  29.\n",
            " 20.4 19.5 50.  25.  23.3 21.1  7.2 13.6 23.3  7.4 20.6 15.2 24.7 19.3\n",
            " 18.2 21.6 23.4 18.3 19.5 24.5  8.3 25.3 18.1 23.9 28.7 30.5 11.9 35.4\n",
            " 27.5 17.1 24.4 19.2  8.8 18.5 21.9 23.7 24.8 50.  19.4 23.  22.7 23.9\n",
            " 19.4 22.3 22.8 22.8 33.1 28.4 21.2  9.5 14.8 12.5 27.  31.  12.1 17.4\n",
            " 27.5 24.3 16.5 26.6 16.5 31.1 24.5 10.8 28.6 22.7 24.8 34.9 15.6 36.4\n",
            " 50.  50.  22.6 44.8 19.9 33.3 27.9 50.  19.9 33.  24.4 34.6 17.7 15.2\n",
            " 20.3 36.  16.1 32.4]\n"
          ],
          "name": "stdout"
        }
      ]
    },
    {
      "cell_type": "code",
      "metadata": {
        "id": "-w28CQqJn1mZ",
        "colab_type": "code",
        "colab": {
          "base_uri": "https://localhost:8080/",
          "height": 265
        },
        "outputId": "59bd3076-471b-49d0-b8f2-2e4b43337595"
      },
      "source": [
        "sns.set_style(\"darkgrid\")\n",
        "sns.distplot(y_deltas)\n",
        "sns.distplot(y_test)\n",
        "sns.distplot(y_pred)\n",
        "plt.show()"
      ],
      "execution_count": 50,
      "outputs": [
        {
          "output_type": "display_data",
          "data": {
            "application/javascript": [
              "\n",
              "        if (window._pyforest_update_imports_cell) { window._pyforest_update_imports_cell('import numpy as np\\nimport bokeh\\nimport nltk\\nimport sys\\nimport pydot\\nimport pickle\\nimport sklearn\\nimport statistics\\nimport plotly.express as px\\nimport tqdm\\nimport altair as alt\\nfrom sklearn import svm\\nimport tensorflow as tf\\nimport spacy\\nimport re\\nimport matplotlib.pyplot as plt\\nimport pandas as pd\\nfrom sklearn.model_selection import train_test_split\\nimport seaborn as sns\\nimport matplotlib as mpl\\nimport plotly as py\\nfrom openpyxl import load_workbook'); }\n",
              "    "
            ],
            "text/plain": [
              "<IPython.core.display.Javascript object>"
            ]
          },
          "metadata": {
            "tags": []
          }
        },
        {
          "output_type": "display_data",
          "data": {
            "application/javascript": [
              "\n",
              "        if (window._pyforest_update_imports_cell) { window._pyforest_update_imports_cell('import numpy as np\\nimport bokeh\\nimport nltk\\nimport sys\\nimport pydot\\nimport pickle\\nimport sklearn\\nimport statistics\\nimport plotly.express as px\\nimport tqdm\\nimport altair as alt\\nfrom sklearn import svm\\nimport tensorflow as tf\\nimport spacy\\nimport re\\nimport matplotlib.pyplot as plt\\nimport pandas as pd\\nfrom sklearn.model_selection import train_test_split\\nimport seaborn as sns\\nimport matplotlib as mpl\\nimport plotly as py\\nfrom openpyxl import load_workbook'); }\n",
              "    "
            ],
            "text/plain": [
              "<IPython.core.display.Javascript object>"
            ]
          },
          "metadata": {
            "tags": []
          }
        },
        {
          "output_type": "display_data",
          "data": {
            "application/javascript": [
              "\n",
              "        if (window._pyforest_update_imports_cell) { window._pyforest_update_imports_cell('import numpy as np\\nimport bokeh\\nimport nltk\\nimport sys\\nimport pydot\\nimport pickle\\nimport sklearn\\nimport statistics\\nimport plotly.express as px\\nimport tqdm\\nimport altair as alt\\nfrom sklearn import svm\\nimport tensorflow as tf\\nimport spacy\\nimport re\\nimport matplotlib.pyplot as plt\\nimport pandas as pd\\nfrom sklearn.model_selection import train_test_split\\nimport seaborn as sns\\nimport matplotlib as mpl\\nimport plotly as py\\nfrom openpyxl import load_workbook'); }\n",
              "    "
            ],
            "text/plain": [
              "<IPython.core.display.Javascript object>"
            ]
          },
          "metadata": {
            "tags": []
          }
        },
        {
          "output_type": "display_data",
          "data": {
            "application/javascript": [
              "\n",
              "        if (window._pyforest_update_imports_cell) { window._pyforest_update_imports_cell('import numpy as np\\nimport bokeh\\nimport nltk\\nimport sys\\nimport pydot\\nimport pickle\\nimport sklearn\\nimport statistics\\nimport plotly.express as px\\nimport tqdm\\nimport altair as alt\\nfrom sklearn import svm\\nimport tensorflow as tf\\nimport spacy\\nimport re\\nimport matplotlib.pyplot as plt\\nimport pandas as pd\\nfrom sklearn.model_selection import train_test_split\\nimport seaborn as sns\\nimport matplotlib as mpl\\nimport plotly as py\\nfrom openpyxl import load_workbook'); }\n",
              "    "
            ],
            "text/plain": [
              "<IPython.core.display.Javascript object>"
            ]
          },
          "metadata": {
            "tags": []
          }
        },
        {
          "output_type": "display_data",
          "data": {
            "application/javascript": [
              "\n",
              "        if (window._pyforest_update_imports_cell) { window._pyforest_update_imports_cell('import numpy as np\\nimport bokeh\\nimport nltk\\nimport sys\\nimport pydot\\nimport pickle\\nimport sklearn\\nimport statistics\\nimport plotly.express as px\\nimport tqdm\\nimport altair as alt\\nfrom sklearn import svm\\nimport tensorflow as tf\\nimport spacy\\nimport re\\nimport matplotlib.pyplot as plt\\nimport pandas as pd\\nfrom sklearn.model_selection import train_test_split\\nimport seaborn as sns\\nimport matplotlib as mpl\\nimport plotly as py\\nfrom openpyxl import load_workbook'); }\n",
              "    "
            ],
            "text/plain": [
              "<IPython.core.display.Javascript object>"
            ]
          },
          "metadata": {
            "tags": []
          }
        },
        {
          "output_type": "display_data",
          "data": {
            "image/png": "[encoded data removed]",
            "text/plain": [
              "<Figure size 432x288 with 1 Axes>"
            ]
          },
          "metadata": {
            "tags": []
          }
        }
      ]
    },
    {
      "cell_type": "code",
      "metadata": {
        "id": "lV8ndeMSpD4J",
        "colab_type": "code",
        "colab": {
          "base_uri": "https://localhost:8080/",
          "height": 265
        },
        "outputId": "42459a7b-1249-431e-de9b-d0927d99be24"
      },
      "source": [
        "sns.set_style('whitegrid')\n",
        "sns.kdeplot(np.array(y_deltas), bw=0.5)\n",
        "plt.show()"
      ],
      "execution_count": 49,
      "outputs": [
        {
          "output_type": "display_data",
          "data": {
            "application/javascript": [
              "\n",
              "        if (window._pyforest_update_imports_cell) { window._pyforest_update_imports_cell('import numpy as np\\nimport bokeh\\nimport nltk\\nimport sys\\nimport pydot\\nimport pickle\\nimport sklearn\\nimport statistics\\nimport plotly.express as px\\nimport tqdm\\nimport altair as alt\\nfrom sklearn import svm\\nimport tensorflow as tf\\nimport spacy\\nimport re\\nimport matplotlib.pyplot as plt\\nimport pandas as pd\\nfrom sklearn.model_selection import train_test_split\\nimport seaborn as sns\\nimport matplotlib as mpl\\nimport plotly as py\\nfrom openpyxl import load_workbook'); }\n",
              "    "
            ],
            "text/plain": [
              "<IPython.core.display.Javascript object>"
            ]
          },
          "metadata": {
            "tags": []
          }
        },
        {
          "output_type": "display_data",
          "data": {
            "application/javascript": [
              "\n",
              "        if (window._pyforest_update_imports_cell) { window._pyforest_update_imports_cell('import numpy as np\\nimport bokeh\\nimport nltk\\nimport sys\\nimport pydot\\nimport pickle\\nimport sklearn\\nimport statistics\\nimport plotly.express as px\\nimport tqdm\\nimport altair as alt\\nfrom sklearn import svm\\nimport tensorflow as tf\\nimport spacy\\nimport re\\nimport matplotlib.pyplot as plt\\nimport pandas as pd\\nfrom sklearn.model_selection import train_test_split\\nimport seaborn as sns\\nimport matplotlib as mpl\\nimport plotly as py\\nfrom openpyxl import load_workbook'); }\n",
              "    "
            ],
            "text/plain": [
              "<IPython.core.display.Javascript object>"
            ]
          },
          "metadata": {
            "tags": []
          }
        },
        {
          "output_type": "display_data",
          "data": {
            "application/javascript": [
              "\n",
              "        if (window._pyforest_update_imports_cell) { window._pyforest_update_imports_cell('import numpy as np\\nimport bokeh\\nimport nltk\\nimport sys\\nimport pydot\\nimport pickle\\nimport sklearn\\nimport statistics\\nimport plotly.express as px\\nimport tqdm\\nimport altair as alt\\nfrom sklearn import svm\\nimport tensorflow as tf\\nimport spacy\\nimport re\\nimport matplotlib.pyplot as plt\\nimport pandas as pd\\nfrom sklearn.model_selection import train_test_split\\nimport seaborn as sns\\nimport matplotlib as mpl\\nimport plotly as py\\nfrom openpyxl import load_workbook'); }\n",
              "    "
            ],
            "text/plain": [
              "<IPython.core.display.Javascript object>"
            ]
          },
          "metadata": {
            "tags": []
          }
        },
        {
          "output_type": "display_data",
          "data": {
            "application/javascript": [
              "\n",
              "        if (window._pyforest_update_imports_cell) { window._pyforest_update_imports_cell('import numpy as np\\nimport bokeh\\nimport nltk\\nimport sys\\nimport pydot\\nimport pickle\\nimport sklearn\\nimport statistics\\nimport plotly.express as px\\nimport tqdm\\nimport altair as alt\\nfrom sklearn import svm\\nimport tensorflow as tf\\nimport spacy\\nimport re\\nimport matplotlib.pyplot as plt\\nimport pandas as pd\\nfrom sklearn.model_selection import train_test_split\\nimport seaborn as sns\\nimport matplotlib as mpl\\nimport plotly as py\\nfrom openpyxl import load_workbook'); }\n",
              "    "
            ],
            "text/plain": [
              "<IPython.core.display.Javascript object>"
            ]
          },
          "metadata": {
            "tags": []
          }
        },
        {
          "output_type": "display_data",
          "data": {
            "image/png": "[encoded data removed]",
            "text/plain": [
              "<Figure size 432x288 with 1 Axes>"
            ]
          },
          "metadata": {
            "tags": []
          }
        }
      ]
    },
    {
      "cell_type": "code",
      "metadata": {
        "id": "n3xd29qiruSZ",
        "colab_type": "code",
        "colab": {}
      },
      "source": [
        ""
      ],
      "execution_count": 0,
      "outputs": []
    }
  ]
}